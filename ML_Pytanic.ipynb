{
  "nbformat": 4,
  "nbformat_minor": 0,
  "metadata": {
    "colab": {
      "name": "ML-Pytanic.ipynb",
      "provenance": [],
      "toc_visible": true,
      "authorship_tag": "ABX9TyNukCF+X4TZyR6sMGzLZgyY",
      "include_colab_link": true
    },
    "kernelspec": {
      "name": "python3",
      "display_name": "Python 3"
    }
  },
  "cells": [
    {
      "cell_type": "markdown",
      "metadata": {
        "id": "view-in-github",
        "colab_type": "text"
      },
      "source": [
        "<a href=\"https://colab.research.google.com/github/NArtEvents11/hello-world/blob/master/ML_Pytanic.ipynb\" target=\"_parent\"><img src=\"https://colab.research.google.com/assets/colab-badge.svg\" alt=\"Open In Colab\"/></a>"
      ]
    },
    {
      "cell_type": "code",
      "metadata": {
        "id": "UAlNsUz8fLUP",
        "colab_type": "code",
        "colab": {}
      },
      "source": [
        "import pandas as pd"
      ],
      "execution_count": 0,
      "outputs": []
    },
    {
      "cell_type": "code",
      "metadata": {
        "id": "uL3fsyGdo9i-",
        "colab_type": "code",
        "colab": {}
      },
      "source": [
        "df = pd.read_csv('train.csv')\n",
        "df_test = pd.read_csv('test.csv')"
      ],
      "execution_count": 0,
      "outputs": []
    },
    {
      "cell_type": "code",
      "metadata": {
        "id": "dwZxOSgppDQQ",
        "colab_type": "code",
        "colab": {
          "base_uri": "https://localhost:8080/",
          "height": 68
        },
        "outputId": "0055d10f-4ab9-4b1b-d77a-73356bbeaa8e"
      },
      "source": [
        "df.columns"
      ],
      "execution_count": 25,
      "outputs": [
        {
          "output_type": "execute_result",
          "data": {
            "text/plain": [
              "Index(['PassengerId', 'Survived', 'Pclass', 'Name', 'Sex', 'Age', 'SibSp',\n",
              "       'Parch', 'Ticket', 'Fare', 'Cabin', 'Embarked'],\n",
              "      dtype='object')"
            ]
          },
          "metadata": {
            "tags": []
          },
          "execution_count": 25
        }
      ]
    },
    {
      "cell_type": "code",
      "metadata": {
        "id": "9JlP_WYOpLGo",
        "colab_type": "code",
        "colab": {
          "base_uri": "https://localhost:8080/",
          "height": 357
        },
        "outputId": "be916f4e-ddaf-4ebf-bec2-72dad2999c24"
      },
      "source": [
        "print(df.info())"
      ],
      "execution_count": 26,
      "outputs": [
        {
          "output_type": "stream",
          "text": [
            "<class 'pandas.core.frame.DataFrame'>\n",
            "RangeIndex: 891 entries, 0 to 890\n",
            "Data columns (total 12 columns):\n",
            " #   Column       Non-Null Count  Dtype  \n",
            "---  ------       --------------  -----  \n",
            " 0   PassengerId  891 non-null    int64  \n",
            " 1   Survived     891 non-null    int64  \n",
            " 2   Pclass       891 non-null    int64  \n",
            " 3   Name         891 non-null    object \n",
            " 4   Sex          891 non-null    object \n",
            " 5   Age          714 non-null    float64\n",
            " 6   SibSp        891 non-null    int64  \n",
            " 7   Parch        891 non-null    int64  \n",
            " 8   Ticket       891 non-null    object \n",
            " 9   Fare         891 non-null    float64\n",
            " 10  Cabin        204 non-null    object \n",
            " 11  Embarked     889 non-null    object \n",
            "dtypes: float64(2), int64(5), object(5)\n",
            "memory usage: 83.7+ KB\n",
            "None\n"
          ],
          "name": "stdout"
        }
      ]
    },
    {
      "cell_type": "code",
      "metadata": {
        "id": "1kec-H5epMzU",
        "colab_type": "code",
        "colab": {
          "base_uri": "https://localhost:8080/",
          "height": 204
        },
        "outputId": "51e2943b-d71a-4dbb-da45-32392b4ef47b"
      },
      "source": [
        "print(df.describe())"
      ],
      "execution_count": 27,
      "outputs": [
        {
          "output_type": "stream",
          "text": [
            "       PassengerId    Survived      Pclass  ...       SibSp       Parch        Fare\n",
            "count   891.000000  891.000000  891.000000  ...  891.000000  891.000000  891.000000\n",
            "mean    446.000000    0.383838    2.308642  ...    0.523008    0.381594   32.204208\n",
            "std     257.353842    0.486592    0.836071  ...    1.102743    0.806057   49.693429\n",
            "min       1.000000    0.000000    1.000000  ...    0.000000    0.000000    0.000000\n",
            "25%     223.500000    0.000000    2.000000  ...    0.000000    0.000000    7.910400\n",
            "50%     446.000000    0.000000    3.000000  ...    0.000000    0.000000   14.454200\n",
            "75%     668.500000    1.000000    3.000000  ...    1.000000    0.000000   31.000000\n",
            "max     891.000000    1.000000    3.000000  ...    8.000000    6.000000  512.329200\n",
            "\n",
            "[8 rows x 7 columns]\n"
          ],
          "name": "stdout"
        }
      ]
    },
    {
      "cell_type": "code",
      "metadata": {
        "id": "wtrECyNKpPZZ",
        "colab_type": "code",
        "colab": {
          "base_uri": "https://localhost:8080/",
          "height": 238
        },
        "outputId": "f791f817-3ca3-4244-e903-1a1134e6c39e"
      },
      "source": [
        "df.isnull().sum()"
      ],
      "execution_count": 28,
      "outputs": [
        {
          "output_type": "execute_result",
          "data": {
            "text/plain": [
              "PassengerId      0\n",
              "Survived         0\n",
              "Pclass           0\n",
              "Name             0\n",
              "Sex              0\n",
              "Age            177\n",
              "SibSp            0\n",
              "Parch            0\n",
              "Ticket           0\n",
              "Fare             0\n",
              "Cabin          687\n",
              "Embarked         2\n",
              "dtype: int64"
            ]
          },
          "metadata": {
            "tags": []
          },
          "execution_count": 28
        }
      ]
    },
    {
      "cell_type": "code",
      "metadata": {
        "id": "IscKN84VpSB1",
        "colab_type": "code",
        "colab": {}
      },
      "source": [
        "def get_title(name):\n",
        "  if '.' in name:\n",
        "    return name.split(',')[1].split('.')[0].strip()\n",
        "  else:\n",
        "    return 'Unknown'"
      ],
      "execution_count": 0,
      "outputs": []
    },
    {
      "cell_type": "code",
      "metadata": {
        "id": "zEMDyY2XqIq4",
        "colab_type": "code",
        "colab": {
          "base_uri": "https://localhost:8080/",
          "height": 71
        },
        "outputId": "d62098c9-87c5-4345-ce39-559688768ef6"
      },
      "source": [
        "\n",
        "# A list with the all different titles \n",
        "titles = sorted(set([x for x in df.Name.map(lambda x: get_title(x))]))\n",
        "print('Different titles found on the dataset: ')\n",
        "print(len(titles), ': ', titles)\n"
      ],
      "execution_count": 30,
      "outputs": [
        {
          "output_type": "stream",
          "text": [
            "Different titles found on the dataset: \n",
            "17 :  ['Capt', 'Col', 'Don', 'Dr', 'Jonkheer', 'Lady', 'Major', 'Master', 'Miss', 'Mlle', 'Mme', 'Mr', 'Mrs', 'Ms', 'Rev', 'Sir', 'the Countess']\n"
          ],
          "name": "stdout"
        }
      ]
    },
    {
      "cell_type": "code",
      "metadata": {
        "id": "dhBETvbsqhWI",
        "colab_type": "code",
        "colab": {}
      },
      "source": [
        "#Normalize the tiles\n",
        "def replace_titles(x):\n",
        "  title = x['Title']\n",
        "  if title in ['Capt','Col', 'Major']:\n",
        "    return 'Officer'\n",
        "  elif title in ['Jonkheer','Don','the Countess', 'Dona', 'Lady','Sir']:\n",
        "    return 'Royalty'\n",
        "  elif title in ['the Countess','Mme','Lady']:\n",
        "    return 'Mrs'\n",
        "  elif title in ['Mlle','Ms']:\n",
        "    return 'Miss'\n",
        "  else:\n",
        "    return title\n"
      ],
      "execution_count": 0,
      "outputs": []
    },
    {
      "cell_type": "code",
      "metadata": {
        "id": "Gt0yhSTFrtVr",
        "colab_type": "code",
        "colab": {}
      },
      "source": [
        "df['Title']= df['Name'].map(lambda x: get_title(x))"
      ],
      "execution_count": 0,
      "outputs": []
    },
    {
      "cell_type": "code",
      "metadata": {
        "id": "P5Xvhyoqr4Jb",
        "colab_type": "code",
        "colab": {}
      },
      "source": [
        "df['Title']= df.apply(replace_titles, axis=1)"
      ],
      "execution_count": 0,
      "outputs": []
    },
    {
      "cell_type": "code",
      "metadata": {
        "id": "9vrrWZakr-C3",
        "colab_type": "code",
        "colab": {
          "base_uri": "https://localhost:8080/",
          "height": 170
        },
        "outputId": "9fd00c29-3a40-4266-8d79-0819bfa89187"
      },
      "source": [
        "print(df.Title.value_counts())"
      ],
      "execution_count": 34,
      "outputs": [
        {
          "output_type": "stream",
          "text": [
            "Mr         517\n",
            "Miss       185\n",
            "Mrs        126\n",
            "Master      40\n",
            "Dr           7\n",
            "Rev          6\n",
            "Officer      5\n",
            "Royalty      5\n",
            "Name: Title, dtype: int64\n"
          ],
          "name": "stdout"
        }
      ]
    },
    {
      "cell_type": "code",
      "metadata": {
        "id": "Lk5GGE80sBdC",
        "colab_type": "code",
        "colab": {}
      },
      "source": [
        "df['Age'].fillna(df['Age'].median(), inplace = True)\n",
        "df['Fare'].fillna(df['Fare'].median(), inplace = True)\n",
        "df['Embarked'].fillna('S', inplace = True)\n",
        "df.drop('Cabin', axis = 1, inplace = True)\n",
        "df.drop('Ticket', axis = 1, inplace = True)\n",
        "df.drop('Name', axis = 1, inplace = True)\n",
        "df.Sex.replace(('male','female'),(0,1), inplace = True)\n",
        "df.Embarked.replace((\"S\",'C','Q'),(0,1,2), inplace= True)\n",
        "df.Title.replace(('Mr','Miss','Mrs','Master','Dr','Rev','Officer','Royalty'),(0,1,2,3,4,5,6,7), inplace = True)"
      ],
      "execution_count": 0,
      "outputs": []
    },
    {
      "cell_type": "code",
      "metadata": {
        "id": "b5iJ9M3sswis",
        "colab_type": "code",
        "colab": {
          "base_uri": "https://localhost:8080/",
          "height": 459
        },
        "outputId": "9d439f5d-0444-4b39-8b36-5dee56198773"
      },
      "source": [
        "print(df.isnull().sum())\n",
        "print(df['Sex'].sample(5))\n",
        "print(df['Embarked'].sample(5))\n",
        "print(df.columns)"
      ],
      "execution_count": 36,
      "outputs": [
        {
          "output_type": "stream",
          "text": [
            "PassengerId    0\n",
            "Survived       0\n",
            "Pclass         0\n",
            "Sex            0\n",
            "Age            0\n",
            "SibSp          0\n",
            "Parch          0\n",
            "Fare           0\n",
            "Embarked       0\n",
            "Title          0\n",
            "dtype: int64\n",
            "79     1\n",
            "148    0\n",
            "142    1\n",
            "400    0\n",
            "126    0\n",
            "Name: Sex, dtype: int64\n",
            "612    2\n",
            "601    0\n",
            "127    0\n",
            "123    0\n",
            "0      0\n",
            "Name: Embarked, dtype: int64\n",
            "Index(['PassengerId', 'Survived', 'Pclass', 'Sex', 'Age', 'SibSp', 'Parch',\n",
            "       'Fare', 'Embarked', 'Title'],\n",
            "      dtype='object')\n"
          ],
          "name": "stdout"
        }
      ]
    },
    {
      "cell_type": "code",
      "metadata": {
        "id": "UwZzOlYptwQ_",
        "colab_type": "code",
        "colab": {
          "base_uri": "https://localhost:8080/",
          "height": 204
        },
        "outputId": "d600a23d-0159-4c16-992d-f68e16fc58f5"
      },
      "source": [
        "corr = df.corr()\n",
        "corr.Survived.sort_values(ascending=False)"
      ],
      "execution_count": 37,
      "outputs": [
        {
          "output_type": "execute_result",
          "data": {
            "text/plain": [
              "Survived       1.000000\n",
              "Sex            0.543351\n",
              "Title          0.361340\n",
              "Fare           0.257307\n",
              "Embarked       0.106811\n",
              "Parch          0.081629\n",
              "PassengerId   -0.005007\n",
              "SibSp         -0.035322\n",
              "Age           -0.064910\n",
              "Pclass        -0.338481\n",
              "Name: Survived, dtype: float64"
            ]
          },
          "metadata": {
            "tags": []
          },
          "execution_count": 37
        }
      ]
    },
    {
      "cell_type": "code",
      "metadata": {
        "id": "YKRryRbH8qS2",
        "colab_type": "code",
        "colab": {}
      },
      "source": [
        "from sklearn.model_selection import train_test_split\n",
        "\n",
        "x = df.drop(['Survived','PassengerId'], axis = 1)\n",
        "y = df['Survived']\n",
        "x_train, x_val, y_train, y_val = train_test_split(x, y, test_size = 0.1)"
      ],
      "execution_count": 0,
      "outputs": []
    },
    {
      "cell_type": "code",
      "metadata": {
        "id": "VcZQw-Oj9bNM",
        "colab_type": "code",
        "colab": {
          "base_uri": "https://localhost:8080/",
          "height": 34
        },
        "outputId": "ce40adda-eba0-401a-fde8-2f2f088a2d01"
      },
      "source": [
        "import pickle\n",
        "from sklearn.ensemble import RandomForestClassifier\n",
        "from sklearn.metrics import accuracy_score\n",
        "\n",
        "randomforest = RandomForestClassifier()\n",
        "randomforest.fit(x_train, y_train)\n",
        "y_pred = randomforest.predict(x_val)\n",
        "acc_randomforest = round(accuracy_score(y_pred, y_val) * 100, 2)\n",
        "print('Accuracy: {}'.format(acc_randomforest))\n",
        "\n",
        "pickle.dump(randomforest, open('titanic_model.sav', 'wb'))"
      ],
      "execution_count": 39,
      "outputs": [
        {
          "output_type": "stream",
          "text": [
            "Accuracy: 81.11\n"
          ],
          "name": "stdout"
        }
      ]
    },
    {
      "cell_type": "code",
      "metadata": {
        "id": "ROF-o4s4K9QX",
        "colab_type": "code",
        "colab": {}
      },
      "source": [
        "df_test = pd.read_csv('test.csv')"
      ],
      "execution_count": 0,
      "outputs": []
    },
    {
      "cell_type": "code",
      "metadata": {
        "id": "WL7buhFS-C2A",
        "colab_type": "code",
        "colab": {}
      },
      "source": [
        "df_test['Title']= df_test['Name'].map(lambda x: get_title(x))\n",
        "df_test['Title']= df_test.apply(replace_titles, axis=1)\n",
        "ids = df_test['PassengerId']\n",
        "\n",
        "df_test['Age'].fillna(df_test['Age'].median(), inplace = True)\n",
        "df_test['Fare'].fillna(df_test['Fare'].median(), inplace = True)\n",
        "df_test['Embarked'].fillna('S', inplace = True)\n",
        "df_test.drop('Cabin', axis = 1, inplace = True)\n",
        "df_test.drop('Ticket', axis = 1, inplace = True)\n",
        "df_test.drop('Name', axis = 1, inplace = True)\n",
        "df_test.drop('PassengerId', axis=1, inplace=True)\n",
        "df_test.Sex.replace(('male','female'),(0,1), inplace = True)\n",
        "df_test.Embarked.replace((\"S\",'C','Q'),(0,1,2), inplace= True)\n",
        "df_test.Title.replace(('Mr','Miss','Mrs','Master','Dr','Rev','Officer','Royalty'),(0,1,2,3,4,5,6,7), inplace = True)"
      ],
      "execution_count": 0,
      "outputs": []
    },
    {
      "cell_type": "code",
      "metadata": {
        "id": "zC61KXOtLXwJ",
        "colab_type": "code",
        "colab": {}
      },
      "source": [
        "predictions = randomforest.predict(df_test)\n",
        "output = pd.DataFrame({ 'PassengerId' : ids, 'Survived': predictions })\n",
        "output.to_csv('submission.csv', index=False)"
      ],
      "execution_count": 0,
      "outputs": []
    },
    {
      "cell_type": "code",
      "metadata": {
        "id": "REB0iuCPMFwH",
        "colab_type": "code",
        "colab": {}
      },
      "source": [
        "from google.colab import files\n",
        "files.download('submission.csv')"
      ],
      "execution_count": 0,
      "outputs": []
    },
    {
      "cell_type": "code",
      "metadata": {
        "id": "chzHlbImNHfC",
        "colab_type": "code",
        "colab": {}
      },
      "source": [
        ""
      ],
      "execution_count": 0,
      "outputs": []
    }
  ]
}